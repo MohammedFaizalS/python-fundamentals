{
 "cells": [
  {
   "cell_type": "code",
   "execution_count": null,
   "id": "46dfcfd7",
   "metadata": {},
   "outputs": [],
   "source": [
    "introduction to list Datatypes:"
   ]
  },
  {
   "cell_type": "code",
   "execution_count": null,
   "id": "6e308158",
   "metadata": {},
   "outputs": [],
   "source": [
    "defination: a list is a collection of items declared in a particular order.\n",
    "classification : it is classified as a mutable datatypes.\n",
    "how to declare the list datatype-----?[]   "
   ]
  },
  {
   "cell_type": "code",
   "execution_count": null,
   "id": "d56e7688",
   "metadata": {},
   "outputs": [],
   "source": []
  },
  {
   "cell_type": "code",
   "execution_count": 3,
   "id": "de26b403",
   "metadata": {},
   "outputs": [],
   "source": [
    "Students= ['aravind','shafi','john','david','nusrat','aradhya','nitya','asna']#0,1,2,3,4,5,6,7,"
   ]
  },
  {
   "cell_type": "code",
   "execution_count": 4,
   "id": "b83494fd",
   "metadata": {},
   "outputs": [
    {
     "name": "stdout",
     "output_type": "stream",
     "text": [
      "['aravind', 'shafi', 'john', 'david', 'nusrat', 'aradhya', 'nitya', 'asna']\n"
     ]
    }
   ],
   "source": [
    "print(Students)"
   ]
  },
  {
   "cell_type": "code",
   "execution_count": null,
   "id": "730523e6",
   "metadata": {},
   "outputs": [],
   "source": []
  },
  {
   "cell_type": "code",
   "execution_count": 5,
   "id": "4ae2083e",
   "metadata": {},
   "outputs": [
    {
     "data": {
      "text/plain": [
       "list"
      ]
     },
     "execution_count": 5,
     "metadata": {},
     "output_type": "execute_result"
    }
   ],
   "source": [
    "type(Students)"
   ]
  },
  {
   "cell_type": "code",
   "execution_count": null,
   "id": "b0607518",
   "metadata": {},
   "outputs": [],
   "source": []
  },
  {
   "cell_type": "code",
   "execution_count": null,
   "id": "6738848a",
   "metadata": {},
   "outputs": [],
   "source": [
    "# how to access the above elements from the list...?"
   ]
  },
  {
   "cell_type": "code",
   "execution_count": null,
   "id": "b2f6653a",
   "metadata": {},
   "outputs": [],
   "source": []
  },
  {
   "cell_type": "code",
   "execution_count": null,
   "id": "3b12d0b2",
   "metadata": {},
   "outputs": [],
   "source": [
    "introducion to indexing :0,1,2,3,4,..."
   ]
  },
  {
   "cell_type": "code",
   "execution_count": null,
   "id": "2ad9fe43",
   "metadata": {},
   "outputs": [],
   "source": []
  },
  {
   "cell_type": "code",
   "execution_count": null,
   "id": "e3e7fa6e",
   "metadata": {},
   "outputs": [],
   "source": [
    "#reg: i wanted to access john name from the above list...?"
   ]
  },
  {
   "cell_type": "code",
   "execution_count": 6,
   "id": "c6ee56d0",
   "metadata": {},
   "outputs": [
    {
     "name": "stdout",
     "output_type": "stream",
     "text": [
      "john\n"
     ]
    }
   ],
   "source": [
    "print(Students[2])"
   ]
  },
  {
   "cell_type": "code",
   "execution_count": null,
   "id": "30d137c0",
   "metadata": {},
   "outputs": [],
   "source": [
    "#reg: i wanted to access ARADHYA name from the above list...?"
   ]
  },
  {
   "cell_type": "code",
   "execution_count": 7,
   "id": "663ee2f6",
   "metadata": {},
   "outputs": [
    {
     "name": "stdout",
     "output_type": "stream",
     "text": [
      "aradhya\n"
     ]
    }
   ],
   "source": [
    "print(Students[5])"
   ]
  },
  {
   "cell_type": "code",
   "execution_count": 8,
   "id": "593760f5",
   "metadata": {},
   "outputs": [
    {
     "name": "stdout",
     "output_type": "stream",
     "text": [
      "Aradhya\n"
     ]
    }
   ],
   "source": [
    "print(Students[5].title())"
   ]
  },
  {
   "cell_type": "code",
   "execution_count": null,
   "id": "aa186473",
   "metadata": {},
   "outputs": [],
   "source": []
  },
  {
   "cell_type": "code",
   "execution_count": null,
   "id": "248e82d2",
   "metadata": {},
   "outputs": [],
   "source": [
    "1.how to add new element to the list.\n",
    "2.how to modify new element in the list\n",
    "3.how to delete the element in the list"
   ]
  },
  {
   "cell_type": "code",
   "execution_count": null,
   "id": "8b9d967c",
   "metadata": {},
   "outputs": [],
   "source": []
  },
  {
   "cell_type": "code",
   "execution_count": 9,
   "id": "acc39026",
   "metadata": {},
   "outputs": [
    {
     "name": "stdout",
     "output_type": "stream",
     "text": [
      "['aravind', 'shafi', 'john', 'david', 'nusrat', 'aradhya', 'nitya', 'asna']\n"
     ]
    }
   ],
   "source": [
    "print(Students)"
   ]
  },
  {
   "cell_type": "code",
   "execution_count": null,
   "id": "cccbecaf",
   "metadata": {},
   "outputs": [],
   "source": []
  },
  {
   "cell_type": "code",
   "execution_count": null,
   "id": "fbfa8dbe",
   "metadata": {},
   "outputs": [],
   "source": [
    "#req : i want to add 'sachin' name to the above list.."
   ]
  },
  {
   "cell_type": "code",
   "execution_count": null,
   "id": "ec901bcd",
   "metadata": {},
   "outputs": [],
   "source": []
  },
  {
   "cell_type": "code",
   "execution_count": 10,
   "id": "9216e6d9",
   "metadata": {},
   "outputs": [],
   "source": [
    "Students.append('sachin')"
   ]
  },
  {
   "cell_type": "code",
   "execution_count": 11,
   "id": "e7122680",
   "metadata": {},
   "outputs": [
    {
     "name": "stdout",
     "output_type": "stream",
     "text": [
      "['aravind', 'shafi', 'john', 'david', 'nusrat', 'aradhya', 'nitya', 'asna', 'sachin']\n"
     ]
    }
   ],
   "source": [
    "print(Students)"
   ]
  },
  {
   "cell_type": "code",
   "execution_count": null,
   "id": "bd5eeec8",
   "metadata": {},
   "outputs": [],
   "source": []
  },
  {
   "cell_type": "code",
   "execution_count": null,
   "id": "59b939b7",
   "metadata": {},
   "outputs": [],
   "source": [
    "#req : i want to add 'lavanya' name to the above list..print(Students)"
   ]
  },
  {
   "cell_type": "code",
   "execution_count": 12,
   "id": "56eecf47",
   "metadata": {},
   "outputs": [],
   "source": [
    "Students.append('lavanya')"
   ]
  },
  {
   "cell_type": "code",
   "execution_count": 13,
   "id": "67adf604",
   "metadata": {},
   "outputs": [
    {
     "name": "stdout",
     "output_type": "stream",
     "text": [
      "['aravind', 'shafi', 'john', 'david', 'nusrat', 'aradhya', 'nitya', 'asna', 'sachin', 'lavanya']\n"
     ]
    }
   ],
   "source": [
    "print(Students)"
   ]
  },
  {
   "cell_type": "code",
   "execution_count": null,
   "id": "cee95d0c",
   "metadata": {},
   "outputs": [],
   "source": []
  },
  {
   "cell_type": "code",
   "execution_count": null,
   "id": "db254d09",
   "metadata": {},
   "outputs": [],
   "source": [
    "#req : i want to add 'Charan' name to the 2nd index.."
   ]
  },
  {
   "cell_type": "code",
   "execution_count": 14,
   "id": "023fb49d",
   "metadata": {},
   "outputs": [],
   "source": [
    "Students.insert(2,'charan')"
   ]
  },
  {
   "cell_type": "code",
   "execution_count": 15,
   "id": "c1f1304a",
   "metadata": {},
   "outputs": [
    {
     "name": "stdout",
     "output_type": "stream",
     "text": [
      "['aravind', 'shafi', 'charan', 'john', 'david', 'nusrat', 'aradhya', 'nitya', 'asna', 'sachin', 'lavanya']\n"
     ]
    }
   ],
   "source": [
    "print(Students)"
   ]
  },
  {
   "cell_type": "code",
   "execution_count": 16,
   "id": "0767cf76",
   "metadata": {},
   "outputs": [
    {
     "name": "stdout",
     "output_type": "stream",
     "text": [
      "charan\n"
     ]
    }
   ],
   "source": [
    "print(Students[2])"
   ]
  },
  {
   "cell_type": "code",
   "execution_count": null,
   "id": "e6b6a19a",
   "metadata": {},
   "outputs": [],
   "source": []
  },
  {
   "cell_type": "code",
   "execution_count": null,
   "id": "89ecfd53",
   "metadata": {},
   "outputs": [],
   "source": [
    "interview que: what is the diff btw append and a insert method in a list...?"
   ]
  },
  {
   "cell_type": "code",
   "execution_count": null,
   "id": "811290e4",
   "metadata": {},
   "outputs": [],
   "source": []
  },
  {
   "cell_type": "code",
   "execution_count": null,
   "id": "5a0dd405",
   "metadata": {},
   "outputs": [],
   "source": [
    "#how to modify the element in the list."
   ]
  },
  {
   "cell_type": "code",
   "execution_count": null,
   "id": "2091c484",
   "metadata": {},
   "outputs": [],
   "source": []
  },
  {
   "cell_type": "code",
   "execution_count": 17,
   "id": "0f10372c",
   "metadata": {},
   "outputs": [
    {
     "name": "stdout",
     "output_type": "stream",
     "text": [
      "['aravind', 'shafi', 'charan', 'john', 'david', 'nusrat', 'aradhya', 'nitya', 'asna', 'sachin', 'lavanya']\n"
     ]
    }
   ],
   "source": [
    "print(Students)"
   ]
  },
  {
   "cell_type": "code",
   "execution_count": null,
   "id": "cc43fda2",
   "metadata": {},
   "outputs": [],
   "source": []
  },
  {
   "cell_type": "code",
   "execution_count": null,
   "id": "07d1c9b9",
   "metadata": {},
   "outputs": [],
   "source": [
    "# i want too modify charan to 'chaitanya'"
   ]
  },
  {
   "cell_type": "code",
   "execution_count": 18,
   "id": "719a968e",
   "metadata": {},
   "outputs": [
    {
     "name": "stdout",
     "output_type": "stream",
     "text": [
      "charan\n"
     ]
    }
   ],
   "source": [
    "print(Students[2])"
   ]
  },
  {
   "cell_type": "code",
   "execution_count": 19,
   "id": "d9b6d4a9",
   "metadata": {},
   "outputs": [],
   "source": [
    "Students[2] = 'chaitanya'"
   ]
  },
  {
   "cell_type": "code",
   "execution_count": 20,
   "id": "f1763fff",
   "metadata": {},
   "outputs": [
    {
     "name": "stdout",
     "output_type": "stream",
     "text": [
      "['aravind', 'shafi', 'chaitanya', 'john', 'david', 'nusrat', 'aradhya', 'nitya', 'asna', 'sachin', 'lavanya']\n"
     ]
    }
   ],
   "source": [
    "print(Students)"
   ]
  },
  {
   "cell_type": "code",
   "execution_count": null,
   "id": "e9037f22",
   "metadata": {},
   "outputs": [],
   "source": []
  },
  {
   "cell_type": "code",
   "execution_count": null,
   "id": "b17c57f5",
   "metadata": {},
   "outputs": [],
   "source": [
    "how to delete the element in the list"
   ]
  },
  {
   "cell_type": "code",
   "execution_count": 21,
   "id": "a6678499",
   "metadata": {},
   "outputs": [
    {
     "name": "stdout",
     "output_type": "stream",
     "text": [
      "['aravind', 'shafi', 'chaitanya', 'john', 'david', 'nusrat', 'aradhya', 'nitya', 'asna', 'sachin', 'lavanya']\n"
     ]
    }
   ],
   "source": [
    "print(Students)"
   ]
  },
  {
   "cell_type": "code",
   "execution_count": null,
   "id": "19c1006b",
   "metadata": {},
   "outputs": [],
   "source": []
  },
  {
   "cell_type": "code",
   "execution_count": null,
   "id": "263deabb",
   "metadata": {},
   "outputs": [],
   "source": [
    "# req: i want to delete 'david' from the above list...?"
   ]
  },
  {
   "cell_type": "code",
   "execution_count": 22,
   "id": "fc9aad33",
   "metadata": {},
   "outputs": [],
   "source": [
    "del Students[4]"
   ]
  },
  {
   "cell_type": "code",
   "execution_count": 23,
   "id": "e67f13cb",
   "metadata": {},
   "outputs": [
    {
     "name": "stdout",
     "output_type": "stream",
     "text": [
      "['aravind', 'shafi', 'chaitanya', 'john', 'nusrat', 'aradhya', 'nitya', 'asna', 'sachin', 'lavanya']\n"
     ]
    }
   ],
   "source": [
    "print(Students)"
   ]
  },
  {
   "cell_type": "code",
   "execution_count": null,
   "id": "ddbc147a",
   "metadata": {},
   "outputs": [],
   "source": []
  }
 ],
 "metadata": {
  "kernelspec": {
   "display_name": "Python 3 (ipykernel)",
   "language": "python",
   "name": "python3"
  },
  "language_info": {
   "codemirror_mode": {
    "name": "ipython",
    "version": 3
   },
   "file_extension": ".py",
   "mimetype": "text/x-python",
   "name": "python",
   "nbconvert_exporter": "python",
   "pygments_lexer": "ipython3",
   "version": "3.9.12"
  }
 },
 "nbformat": 4,
 "nbformat_minor": 5
}
