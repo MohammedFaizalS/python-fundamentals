{
 "cells": [
  {
   "cell_type": "code",
   "execution_count": null,
   "id": "04ab0e9b",
   "metadata": {},
   "outputs": [],
   "source": [
    "Organising list Datatypes"
   ]
  },
  {
   "cell_type": "code",
   "execution_count": null,
   "id": "b2a0992e",
   "metadata": {},
   "outputs": [],
   "source": []
  },
  {
   "cell_type": "code",
   "execution_count": 1,
   "id": "8a210544",
   "metadata": {},
   "outputs": [],
   "source": [
    "students=['rajesh','naveed','vindhya','asna','laiba','radhika','nikhil']"
   ]
  },
  {
   "cell_type": "code",
   "execution_count": 2,
   "id": "27363a93",
   "metadata": {},
   "outputs": [
    {
     "name": "stdout",
     "output_type": "stream",
     "text": [
      "['rajesh', 'naveed', 'vindhya', 'asna', 'laiba', 'radhika', 'nikhil']\n"
     ]
    }
   ],
   "source": [
    "print(students)"
   ]
  },
  {
   "cell_type": "code",
   "execution_count": null,
   "id": "9a013e2f",
   "metadata": {},
   "outputs": [],
   "source": []
  },
  {
   "cell_type": "code",
   "execution_count": null,
   "id": "d8c985f4",
   "metadata": {},
   "outputs": [],
   "source": [
    "#req :i wanted to print naveed name ,what is the index i have to use..?"
   ]
  },
  {
   "cell_type": "code",
   "execution_count": null,
   "id": "a0584eca",
   "metadata": {},
   "outputs": [],
   "source": []
  },
  {
   "cell_type": "code",
   "execution_count": 3,
   "id": "ceb74215",
   "metadata": {},
   "outputs": [
    {
     "name": "stdout",
     "output_type": "stream",
     "text": [
      "naveed\n"
     ]
    }
   ],
   "source": [
    "print(students[1])"
   ]
  },
  {
   "cell_type": "code",
   "execution_count": 4,
   "id": "6f58b339",
   "metadata": {},
   "outputs": [
    {
     "name": "stdout",
     "output_type": "stream",
     "text": [
      "Naveed\n"
     ]
    }
   ],
   "source": [
    "print(students[1].title())"
   ]
  },
  {
   "cell_type": "code",
   "execution_count": 5,
   "id": "e37080a4",
   "metadata": {},
   "outputs": [],
   "source": [
    "cars =['kia','audi','bmw','civic','benz','mg']"
   ]
  },
  {
   "cell_type": "code",
   "execution_count": 6,
   "id": "4829992f",
   "metadata": {},
   "outputs": [
    {
     "name": "stdout",
     "output_type": "stream",
     "text": [
      "['kia', 'audi', 'bmw', 'civic', 'benz', 'mg']\n"
     ]
    }
   ],
   "source": [
    "print(cars)"
   ]
  },
  {
   "cell_type": "code",
   "execution_count": null,
   "id": "50735f00",
   "metadata": {},
   "outputs": [],
   "source": [
    "# i want to arrange the above list in the alphabetical order...?   a-z"
   ]
  },
  {
   "cell_type": "code",
   "execution_count": null,
   "id": "293376b4",
   "metadata": {},
   "outputs": [],
   "source": [
    "#two approaches:\n",
    "1.temp approach--->sorting===>we can retain the original order\n",
    "2.permenant approach--->sort==>changesare applied permentely"
   ]
  },
  {
   "cell_type": "code",
   "execution_count": null,
   "id": "341ab3df",
   "metadata": {},
   "outputs": [],
   "source": []
  },
  {
   "cell_type": "code",
   "execution_count": 7,
   "id": "08167b74",
   "metadata": {},
   "outputs": [
    {
     "name": "stdout",
     "output_type": "stream",
     "text": [
      "['audi', 'benz', 'bmw', 'civic', 'kia', 'mg']\n"
     ]
    }
   ],
   "source": [
    "print(sorted(cars))"
   ]
  },
  {
   "cell_type": "code",
   "execution_count": null,
   "id": "4fb3df26",
   "metadata": {},
   "outputs": [],
   "source": [
    "benz and bmw===>e and m"
   ]
  },
  {
   "cell_type": "code",
   "execution_count": 8,
   "id": "84d9819d",
   "metadata": {},
   "outputs": [
    {
     "name": "stdout",
     "output_type": "stream",
     "text": [
      "['kia', 'audi', 'bmw', 'civic', 'benz', 'mg']\n"
     ]
    }
   ],
   "source": [
    "print(cars)"
   ]
  },
  {
   "cell_type": "code",
   "execution_count": 9,
   "id": "9590690d",
   "metadata": {},
   "outputs": [
    {
     "name": "stdout",
     "output_type": "stream",
     "text": [
      "['audi', 'benz', 'bmw', 'civic', 'kia', 'mg']\n"
     ]
    }
   ],
   "source": [
    "print(sorted(cars))"
   ]
  },
  {
   "cell_type": "code",
   "execution_count": 10,
   "id": "3248dae2",
   "metadata": {},
   "outputs": [],
   "source": [
    "cars.reverse()"
   ]
  },
  {
   "cell_type": "code",
   "execution_count": 11,
   "id": "b90ad1c4",
   "metadata": {},
   "outputs": [
    {
     "name": "stdout",
     "output_type": "stream",
     "text": [
      "['mg', 'benz', 'civic', 'bmw', 'audi', 'kia']\n"
     ]
    }
   ],
   "source": [
    "print(cars)"
   ]
  },
  {
   "cell_type": "code",
   "execution_count": null,
   "id": "77cb1954",
   "metadata": {},
   "outputs": [],
   "source": []
  },
  {
   "cell_type": "code",
   "execution_count": null,
   "id": "a24ce1a7",
   "metadata": {},
   "outputs": [],
   "source": [
    "# req:i want to count te no of element present in the list...?"
   ]
  },
  {
   "cell_type": "code",
   "execution_count": null,
   "id": "d21b71d1",
   "metadata": {},
   "outputs": [],
   "source": []
  },
  {
   "cell_type": "code",
   "execution_count": 12,
   "id": "9aad5ea2",
   "metadata": {},
   "outputs": [
    {
     "data": {
      "text/plain": [
       "6"
      ]
     },
     "execution_count": 12,
     "metadata": {},
     "output_type": "execute_result"
    }
   ],
   "source": [
    "len(cars)"
   ]
  },
  {
   "cell_type": "code",
   "execution_count": null,
   "id": "667f3d38",
   "metadata": {},
   "outputs": [],
   "source": []
  },
  {
   "cell_type": "code",
   "execution_count": null,
   "id": "b6462e63",
   "metadata": {},
   "outputs": [],
   "source": [
    "slicing of the list datatypes:"
   ]
  },
  {
   "cell_type": "code",
   "execution_count": null,
   "id": "e90f2b2b",
   "metadata": {},
   "outputs": [],
   "source": []
  },
  {
   "cell_type": "code",
   "execution_count": 13,
   "id": "ff0a64c9",
   "metadata": {},
   "outputs": [
    {
     "name": "stdout",
     "output_type": "stream",
     "text": [
      "['rajesh', 'naveed', 'vindhya', 'asna', 'laiba', 'radhika', 'nikhil']\n"
     ]
    }
   ],
   "source": [
    "print(students)"
   ]
  },
  {
   "cell_type": "code",
   "execution_count": null,
   "id": "5584e00b",
   "metadata": {},
   "outputs": [],
   "source": []
  },
  {
   "cell_type": "code",
   "execution_count": null,
   "id": "8fdb1bc2",
   "metadata": {},
   "outputs": [],
   "source": [
    "# general syntax of slicing :"
   ]
  },
  {
   "cell_type": "code",
   "execution_count": null,
   "id": "ffa26f93",
   "metadata": {},
   "outputs": [],
   "source": []
  },
  {
   "cell_type": "code",
   "execution_count": null,
   "id": "07127402",
   "metadata": {},
   "outputs": [],
   "source": [
    "print(list[startvalue : stopvalue : stepcount])"
   ]
  },
  {
   "cell_type": "code",
   "execution_count": null,
   "id": "6ab52672",
   "metadata": {},
   "outputs": [],
   "source": [
    "Note : stop value is always execlusive +1 to include the stop value."
   ]
  },
  {
   "cell_type": "code",
   "execution_count": null,
   "id": "4bc36bfd",
   "metadata": {},
   "outputs": [],
   "source": []
  },
  {
   "cell_type": "code",
   "execution_count": null,
   "id": "7c360b41",
   "metadata": {},
   "outputs": [],
   "source": [
    "# i want to include rajesh annd naveed in the list..?"
   ]
  },
  {
   "cell_type": "code",
   "execution_count": null,
   "id": "34a42a4a",
   "metadata": {},
   "outputs": [],
   "source": []
  },
  {
   "cell_type": "code",
   "execution_count": 15,
   "id": "bd67ccec",
   "metadata": {},
   "outputs": [
    {
     "name": "stdout",
     "output_type": "stream",
     "text": [
      "['rajesh']\n"
     ]
    }
   ],
   "source": [
    "print(students[0:1])"
   ]
  },
  {
   "cell_type": "code",
   "execution_count": 16,
   "id": "8bcaf61c",
   "metadata": {},
   "outputs": [
    {
     "name": "stdout",
     "output_type": "stream",
     "text": [
      "['rajesh', 'naveed']\n"
     ]
    }
   ],
   "source": [
    "print(students[0:2])"
   ]
  },
  {
   "cell_type": "code",
   "execution_count": 17,
   "id": "09d9df75",
   "metadata": {},
   "outputs": [
    {
     "name": "stdout",
     "output_type": "stream",
     "text": [
      "['laiba', 'radhika']\n"
     ]
    }
   ],
   "source": [
    "print(students[4:6])"
   ]
  },
  {
   "cell_type": "code",
   "execution_count": 18,
   "id": "35bd20b5",
   "metadata": {},
   "outputs": [
    {
     "name": "stdout",
     "output_type": "stream",
     "text": [
      "['vindhya', 'asna']\n"
     ]
    }
   ],
   "source": [
    "print(students[2:4])"
   ]
  },
  {
   "cell_type": "code",
   "execution_count": 20,
   "id": "b85d675d",
   "metadata": {},
   "outputs": [
    {
     "name": "stdout",
     "output_type": "stream",
     "text": [
      "['rajesh', 'vindhya', 'laiba', 'nikhil']\n"
     ]
    }
   ],
   "source": [
    "print(students[0:8:2])"
   ]
  },
  {
   "cell_type": "code",
   "execution_count": null,
   "id": "000932a4",
   "metadata": {},
   "outputs": [],
   "source": []
  },
  {
   "cell_type": "code",
   "execution_count": null,
   "id": "ad09445f",
   "metadata": {},
   "outputs": [],
   "source": []
  },
  {
   "cell_type": "code",
   "execution_count": null,
   "id": "596628b9",
   "metadata": {},
   "outputs": [],
   "source": []
  },
  {
   "cell_type": "code",
   "execution_count": null,
   "id": "224b96ae",
   "metadata": {},
   "outputs": [],
   "source": []
  },
  {
   "cell_type": "code",
   "execution_count": null,
   "id": "1b9cffea",
   "metadata": {},
   "outputs": [],
   "source": []
  }
 ],
 "metadata": {
  "kernelspec": {
   "display_name": "Python 3 (ipykernel)",
   "language": "python",
   "name": "python3"
  },
  "language_info": {
   "codemirror_mode": {
    "name": "ipython",
    "version": 3
   },
   "file_extension": ".py",
   "mimetype": "text/x-python",
   "name": "python",
   "nbconvert_exporter": "python",
   "pygments_lexer": "ipython3",
   "version": "3.9.12"
  }
 },
 "nbformat": 4,
 "nbformat_minor": 5
}
