{
 "cells": [
  {
   "cell_type": "code",
   "execution_count": null,
   "id": "15334916",
   "metadata": {},
   "outputs": [],
   "source": [
    "continuation with Strings"
   ]
  },
  {
   "cell_type": "code",
   "execution_count": null,
   "id": "882f2132",
   "metadata": {},
   "outputs": [],
   "source": []
  },
  {
   "cell_type": "code",
   "execution_count": null,
   "id": "2ffa5780",
   "metadata": {},
   "outputs": [],
   "source": [
    "introduction to String Methods:"
   ]
  },
  {
   "cell_type": "code",
   "execution_count": null,
   "id": "c85c5040",
   "metadata": {},
   "outputs": [],
   "source": []
  },
  {
   "cell_type": "code",
   "execution_count": 1,
   "id": "603702d7",
   "metadata": {},
   "outputs": [
    {
     "name": "stdout",
     "output_type": "stream",
     "text": [
      "kumar\n"
     ]
    }
   ],
   "source": [
    "name ='kumar'\n",
    "print(name)"
   ]
  },
  {
   "cell_type": "code",
   "execution_count": null,
   "id": "d53056f6",
   "metadata": {},
   "outputs": [],
   "source": []
  },
  {
   "cell_type": "code",
   "execution_count": 2,
   "id": "62e6de8c",
   "metadata": {},
   "outputs": [
    {
     "data": {
      "text/plain": [
       "str"
      ]
     },
     "execution_count": 2,
     "metadata": {},
     "output_type": "execute_result"
    }
   ],
   "source": [
    "type(name)"
   ]
  },
  {
   "cell_type": "raw",
   "id": "9fea24a6",
   "metadata": {},
   "source": [
    "String-->Str"
   ]
  },
  {
   "cell_type": "code",
   "execution_count": null,
   "id": "992bec58",
   "metadata": {},
   "outputs": [],
   "source": []
  },
  {
   "cell_type": "code",
   "execution_count": 3,
   "id": "99638b45",
   "metadata": {},
   "outputs": [
    {
     "name": "stdout",
     "output_type": "stream",
     "text": [
      "naveed\n"
     ]
    }
   ],
   "source": [
    "name1=\"naveed\"\n",
    "print(name1)"
   ]
  },
  {
   "cell_type": "code",
   "execution_count": 4,
   "id": "5cc0704d",
   "metadata": {},
   "outputs": [
    {
     "data": {
      "text/plain": [
       "str"
      ]
     },
     "execution_count": 4,
     "metadata": {},
     "output_type": "execute_result"
    }
   ],
   "source": [
    "type(name1)"
   ]
  },
  {
   "cell_type": "code",
   "execution_count": 5,
   "id": "cbed9b65",
   "metadata": {},
   "outputs": [
    {
     "name": "stdout",
     "output_type": "stream",
     "text": [
      "rajesh kumar\n"
     ]
    }
   ],
   "source": [
    "fullname='rajesh kumar'\n",
    "print(fullname)"
   ]
  },
  {
   "cell_type": "code",
   "execution_count": 6,
   "id": "ce5468eb",
   "metadata": {},
   "outputs": [
    {
     "name": "stdout",
     "output_type": "stream",
     "text": [
      "Rajesh Kumar\n"
     ]
    }
   ],
   "source": [
    "print(fullname.title())"
   ]
  },
  {
   "cell_type": "code",
   "execution_count": null,
   "id": "68ec863a",
   "metadata": {},
   "outputs": [],
   "source": [
    "# req: i want to get full name in capital letters...?"
   ]
  },
  {
   "cell_type": "code",
   "execution_count": 8,
   "id": "d65f7537",
   "metadata": {},
   "outputs": [
    {
     "name": "stdout",
     "output_type": "stream",
     "text": [
      "RAJESH KUMAR\n"
     ]
    }
   ],
   "source": [
    "print(fullname.upper())"
   ]
  },
  {
   "cell_type": "code",
   "execution_count": null,
   "id": "25043c87",
   "metadata": {},
   "outputs": [],
   "source": [
    "# req: i want to get full name in Smallcase letters...?"
   ]
  },
  {
   "cell_type": "code",
   "execution_count": 9,
   "id": "e1c502aa",
   "metadata": {},
   "outputs": [
    {
     "name": "stdout",
     "output_type": "stream",
     "text": [
      "rajesh kumar\n"
     ]
    }
   ],
   "source": [
    "print(fullname.lower())"
   ]
  },
  {
   "cell_type": "code",
   "execution_count": null,
   "id": "3ebe1727",
   "metadata": {},
   "outputs": [],
   "source": []
  },
  {
   "cell_type": "code",
   "execution_count": null,
   "id": "23630ba5",
   "metadata": {},
   "outputs": [],
   "source": [
    "Introduction to f strings :"
   ]
  },
  {
   "cell_type": "code",
   "execution_count": null,
   "id": "de41e16f",
   "metadata": {},
   "outputs": [],
   "source": []
  },
  {
   "cell_type": "code",
   "execution_count": null,
   "id": "88e0247d",
   "metadata": {},
   "outputs": [],
   "source": [
    "# general syntax for the f strings:"
   ]
  },
  {
   "cell_type": "code",
   "execution_count": null,
   "id": "e196ef79",
   "metadata": {},
   "outputs": [],
   "source": [
    "f\"custom message {placeholder1} {placeholder2}.........{placeholder....n}\""
   ]
  },
  {
   "cell_type": "code",
   "execution_count": null,
   "id": "57431871",
   "metadata": {},
   "outputs": [],
   "source": []
  },
  {
   "cell_type": "code",
   "execution_count": 16,
   "id": "8235cc57",
   "metadata": {},
   "outputs": [],
   "source": [
    "firstname ='mohammed'\n",
    "lastname ='faizal'\n"
   ]
  },
  {
   "cell_type": "code",
   "execution_count": null,
   "id": "7bdf3f66",
   "metadata": {},
   "outputs": [],
   "source": []
  },
  {
   "cell_type": "code",
   "execution_count": null,
   "id": "4a626354",
   "metadata": {},
   "outputs": [],
   "source": [
    "#req : get the full name...?"
   ]
  },
  {
   "cell_type": "code",
   "execution_count": 18,
   "id": "58506bc5",
   "metadata": {},
   "outputs": [
    {
     "name": "stdout",
     "output_type": "stream",
     "text": [
      "mohammed faizal\n"
     ]
    }
   ],
   "source": [
    "full_name = f\"{firstname} {lastname}\"\n",
    "print(full_name)\n"
   ]
  },
  {
   "cell_type": "code",
   "execution_count": 20,
   "id": "83750e3e",
   "metadata": {},
   "outputs": [
    {
     "name": "stdout",
     "output_type": "stream",
     "text": [
      "Mohammed Faizal\n"
     ]
    }
   ],
   "source": [
    "print(full_name.title())"
   ]
  },
  {
   "cell_type": "code",
   "execution_count": 22,
   "id": "4eae989b",
   "metadata": {},
   "outputs": [
    {
     "name": "stdout",
     "output_type": "stream",
     "text": [
      "keep up the good work,Mohammed Faizal\n"
     ]
    }
   ],
   "source": [
    "message =f\"keep up the good work,{full_name.title()}\"\n",
    "print(message)"
   ]
  },
  {
   "cell_type": "code",
   "execution_count": null,
   "id": "b5f76231",
   "metadata": {},
   "outputs": [],
   "source": []
  },
  {
   "cell_type": "code",
   "execution_count": null,
   "id": "ad73a932",
   "metadata": {},
   "outputs": [],
   "source": [
    "Adding Whitespaces to strings :"
   ]
  },
  {
   "cell_type": "code",
   "execution_count": null,
   "id": "0787a715",
   "metadata": {},
   "outputs": [],
   "source": []
  },
  {
   "cell_type": "code",
   "execution_count": 24,
   "id": "12d201fa",
   "metadata": {},
   "outputs": [
    {
     "name": "stdout",
     "output_type": "stream",
     "text": [
      "favourite_langauge:PythonC++javaCPascalCobal\n"
     ]
    }
   ],
   "source": [
    "print('favourite_langauge:PythonC++javaCPascalCobal')"
   ]
  },
  {
   "cell_type": "code",
   "execution_count": null,
   "id": "171ed454",
   "metadata": {},
   "outputs": [],
   "source": []
  },
  {
   "cell_type": "code",
   "execution_count": 25,
   "id": "50977937",
   "metadata": {},
   "outputs": [
    {
     "name": "stdout",
     "output_type": "stream",
     "text": [
      "favourite_langauge:\n",
      "Python\n",
      "C++\n",
      "java\n",
      "C\n",
      "Pascal\n",
      "Cobal\n"
     ]
    }
   ],
   "source": [
    "print('favourite_langauge:\\nPython\\nC++\\njava\\nC\\nPascal\\nCobal')"
   ]
  },
  {
   "cell_type": "code",
   "execution_count": null,
   "id": "83245687",
   "metadata": {},
   "outputs": [],
   "source": [
    "\\n---->new line delimiter"
   ]
  },
  {
   "cell_type": "code",
   "execution_count": null,
   "id": "a72f4401",
   "metadata": {},
   "outputs": [],
   "source": []
  },
  {
   "cell_type": "code",
   "execution_count": 26,
   "id": "a57f33b9",
   "metadata": {},
   "outputs": [
    {
     "name": "stdout",
     "output_type": "stream",
     "text": [
      "favourite_langauge:\n",
      "\tPython\n",
      "\tC++\n",
      "\tjava\n",
      "\tC\n",
      "\tPascal\n",
      "\tCobal\n"
     ]
    }
   ],
   "source": [
    "print('favourite_langauge:\\n\\tPython\\n\\tC++\\n\\tjava\\n\\tC\\n\\tPascal\\n\\tCobal')"
   ]
  },
  {
   "cell_type": "code",
   "execution_count": null,
   "id": "196ebe14",
   "metadata": {},
   "outputs": [],
   "source": [
    "\\t--->tab delimiter"
   ]
  },
  {
   "cell_type": "code",
   "execution_count": null,
   "id": "9e679f12",
   "metadata": {},
   "outputs": [],
   "source": []
  },
  {
   "cell_type": "code",
   "execution_count": null,
   "id": "da52f068",
   "metadata": {},
   "outputs": [],
   "source": []
  }
 ],
 "metadata": {
  "kernelspec": {
   "display_name": "Python 3 (ipykernel)",
   "language": "python",
   "name": "python3"
  },
  "language_info": {
   "codemirror_mode": {
    "name": "ipython",
    "version": 3
   },
   "file_extension": ".py",
   "mimetype": "text/x-python",
   "name": "python",
   "nbconvert_exporter": "python",
   "pygments_lexer": "ipython3",
   "version": "3.9.12"
  }
 },
 "nbformat": 4,
 "nbformat_minor": 5
}
