{
 "cells": [
  {
   "cell_type": "code",
   "execution_count": null,
   "id": "85acaef3",
   "metadata": {},
   "outputs": [],
   "source": [
    "Understanding The Variable in Python"
   ]
  },
  {
   "cell_type": "code",
   "execution_count": null,
   "id": "f25e65b8",
   "metadata": {},
   "outputs": [],
   "source": []
  },
  {
   "cell_type": "code",
   "execution_count": 1,
   "id": "110313c4",
   "metadata": {},
   "outputs": [],
   "source": [
    "x = 2\n",
    "y = 3"
   ]
  },
  {
   "cell_type": "code",
   "execution_count": 2,
   "id": "0f6efadd",
   "metadata": {},
   "outputs": [
    {
     "name": "stdout",
     "output_type": "stream",
     "text": [
      "5\n"
     ]
    }
   ],
   "source": [
    "z = x+y\n",
    "\n",
    "print(z)"
   ]
  },
  {
   "cell_type": "code",
   "execution_count": null,
   "id": "bf6e90cc",
   "metadata": {},
   "outputs": [],
   "source": []
  },
  {
   "cell_type": "code",
   "execution_count": null,
   "id": "6116a955",
   "metadata": {},
   "outputs": [],
   "source": [
    "Rules for declaring the variable in Python"
   ]
  },
  {
   "cell_type": "code",
   "execution_count": null,
   "id": "b1160388",
   "metadata": {},
   "outputs": [],
   "source": [
    "Rule : 1 - No Namespaces while declaring the variables"
   ]
  },
  {
   "cell_type": "code",
   "execution_count": 3,
   "id": "e7a32564",
   "metadata": {},
   "outputs": [
    {
     "ename": "SyntaxError",
     "evalue": "invalid syntax (2072851605.py, line 1)",
     "output_type": "error",
     "traceback": [
      "\u001b[1;36m  Input \u001b[1;32mIn [3]\u001b[1;36m\u001b[0m\n\u001b[1;33m    first name = 'Faizal'\u001b[0m\n\u001b[1;37m          ^\u001b[0m\n\u001b[1;31mSyntaxError\u001b[0m\u001b[1;31m:\u001b[0m invalid syntax\n"
     ]
    }
   ],
   "source": [
    "first name = 'Faizal'\n",
    "print(first name)"
   ]
  },
  {
   "cell_type": "code",
   "execution_count": 4,
   "id": "d26a8e48",
   "metadata": {},
   "outputs": [
    {
     "name": "stdout",
     "output_type": "stream",
     "text": [
      "faizal\n"
     ]
    }
   ],
   "source": [
    "firstname = \"faizal\"\n",
    "print(firstname)"
   ]
  },
  {
   "cell_type": "code",
   "execution_count": null,
   "id": "6c1d17a1",
   "metadata": {},
   "outputs": [],
   "source": []
  },
  {
   "cell_type": "code",
   "execution_count": null,
   "id": "7b4837e5",
   "metadata": {},
   "outputs": [],
   "source": [
    "Rule No 2 : A variables name shoule not start with a number **"
   ]
  },
  {
   "cell_type": "code",
   "execution_count": 6,
   "id": "7ff06ff7",
   "metadata": {},
   "outputs": [
    {
     "ename": "SyntaxError",
     "evalue": "invalid syntax (3257563462.py, line 1)",
     "output_type": "error",
     "traceback": [
      "\u001b[1;36m  Input \u001b[1;32mIn [6]\u001b[1;36m\u001b[0m\n\u001b[1;33m    1name = 'Faizal'\u001b[0m\n\u001b[1;37m     ^\u001b[0m\n\u001b[1;31mSyntaxError\u001b[0m\u001b[1;31m:\u001b[0m invalid syntax\n"
     ]
    }
   ],
   "source": [
    "1name = 'Faizal'\n",
    "print(1name)"
   ]
  },
  {
   "cell_type": "code",
   "execution_count": 7,
   "id": "85e1a358",
   "metadata": {},
   "outputs": [
    {
     "name": "stdout",
     "output_type": "stream",
     "text": [
      "Faizal\n"
     ]
    }
   ],
   "source": [
    "name1 = 'Faizal'\n",
    "print(name1)"
   ]
  },
  {
   "cell_type": "code",
   "execution_count": null,
   "id": "7385c3e4",
   "metadata": {},
   "outputs": [],
   "source": []
  },
  {
   "cell_type": "code",
   "execution_count": null,
   "id": "62e3c925",
   "metadata": {},
   "outputs": [],
   "source": [
    "for executing we have to press Shift + enter button...."
   ]
  },
  {
   "cell_type": "code",
   "execution_count": null,
   "id": "2e014fa6",
   "metadata": {},
   "outputs": [],
   "source": []
  },
  {
   "cell_type": "code",
   "execution_count": null,
   "id": "6511809f",
   "metadata": {},
   "outputs": [],
   "source": [
    "introduction to datatypes in python :\n",
    "    \n",
    "    1. String ---- str\n",
    "    2. Number ----integer(int)and floats (float) (decimal)\n",
    "    3. lists  ----list\n",
    "    4.tuples  ----tuple\n",
    "    5.Dictionaries ----dict"
   ]
  },
  {
   "cell_type": "code",
   "execution_count": null,
   "id": "fceaae91",
   "metadata": {},
   "outputs": [],
   "source": []
  },
  {
   "cell_type": "code",
   "execution_count": null,
   "id": "cdcfec3e",
   "metadata": {},
   "outputs": [],
   "source": [
    "Classification of datatypes in python:\n",
    "    1.Mutable -----which we can edit and alter---- flexible in nature\n",
    "    2.immutable----which we cannot able to edit or alter--- fixed in nature"
   ]
  },
  {
   "cell_type": "code",
   "execution_count": null,
   "id": "50c41234",
   "metadata": {},
   "outputs": [],
   "source": []
  },
  {
   "cell_type": "code",
   "execution_count": null,
   "id": "68f5c041",
   "metadata": {},
   "outputs": [],
   "source": [
    "intro to Sring datatypes:\n",
    "Defination: A String is a series of character declared in quotes.\n",
    "classification :it is classified as an immutable datatype\n",
    "how to declare the string datatype..?\n",
    "3 approaches of declaring the string.\n",
    "1.single quote\n",
    "2.double quote\n",
    "3.triple quote.\n"
   ]
  },
  {
   "cell_type": "code",
   "execution_count": null,
   "id": "3c6f48db",
   "metadata": {},
   "outputs": [],
   "source": []
  },
  {
   "cell_type": "code",
   "execution_count": 9,
   "id": "954d9f18",
   "metadata": {},
   "outputs": [
    {
     "name": "stdout",
     "output_type": "stream",
     "text": [
      "faizal\n"
     ]
    }
   ],
   "source": [
    "name1 ='faizal' # single quote\n",
    "print(name1)"
   ]
  },
  {
   "cell_type": "code",
   "execution_count": 10,
   "id": "6702b048",
   "metadata": {},
   "outputs": [
    {
     "name": "stdout",
     "output_type": "stream",
     "text": [
      "Faizal\n"
     ]
    }
   ],
   "source": [
    "name2 = \"Faizal\" #double quote\n",
    "print(name2)"
   ]
  },
  {
   "cell_type": "code",
   "execution_count": 11,
   "id": "26229c60",
   "metadata": {},
   "outputs": [
    {
     "name": "stdout",
     "output_type": "stream",
     "text": [
      "Faizal\n"
     ]
    }
   ],
   "source": [
    "name3 = \"\"\"Faizal\"\"\" #triple quote\n",
    "print(name3)"
   ]
  },
  {
   "cell_type": "code",
   "execution_count": null,
   "id": "cddbc19e",
   "metadata": {},
   "outputs": [],
   "source": []
  },
  {
   "cell_type": "code",
   "execution_count": null,
   "id": "9ccf4fb4",
   "metadata": {},
   "outputs": [],
   "source": []
  }
 ],
 "metadata": {
  "kernelspec": {
   "display_name": "Python 3 (ipykernel)",
   "language": "python",
   "name": "python3"
  },
  "language_info": {
   "codemirror_mode": {
    "name": "ipython",
    "version": 3
   },
   "file_extension": ".py",
   "mimetype": "text/x-python",
   "name": "python",
   "nbconvert_exporter": "python",
   "pygments_lexer": "ipython3",
   "version": "3.9.12"
  }
 },
 "nbformat": 4,
 "nbformat_minor": 5
}
